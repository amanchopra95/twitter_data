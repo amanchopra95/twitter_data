{
 "cells": [
  {
   "cell_type": "markdown",
   "metadata": {},
   "source": [
    "# data.world\n",
    "## Tweets of Congress - November"
   ]
  },
  {
   "cell_type": "markdown",
   "metadata": {},
   "source": [
    "> #### Setup  \n",
    "\n",
    "> Before running data.world notebooks for the first time, you'll need to:  \n",
    "1. Install data.world's Python package, including optional `pandas` dependencies: \n",
    "```shell\n",
    "pip install git+git://github.com/datadotworld/data.world-py.git#egg=project[pandas]\n",
    "```\n",
    "1. Obtain an API access token at https://data.world/settings/advanced\n",
    "1. Store API access token using the `dw` command-line tool: \n",
    "```shell\n",
    "dw configure\n",
    "```\n",
    "\n",
    "> Once your environment is set up, these steps do not need to be repeated for other data.world notebooks."
   ]
  },
  {
   "cell_type": "code",
   "execution_count": 1,
   "metadata": {},
   "outputs": [
    {
     "ename": "ImportError",
     "evalue": "No module named 'datadotworld'",
     "output_type": "error",
     "traceback": [
      "\u001b[0;31m---------------------------------------------------------------------------\u001b[0m",
      "\u001b[0;31mImportError\u001b[0m                               Traceback (most recent call last)",
      "\u001b[0;32m<ipython-input-1-b454fc465f02>\u001b[0m in \u001b[0;36m<module>\u001b[0;34m()\u001b[0m\n\u001b[0;32m----> 1\u001b[0;31m \u001b[0;32mimport\u001b[0m \u001b[0mdatadotworld\u001b[0m \u001b[0;32mas\u001b[0m \u001b[0mdw\u001b[0m\u001b[0;34m\u001b[0m\u001b[0m\n\u001b[0m",
      "\u001b[0;31mImportError\u001b[0m: No module named 'datadotworld'"
     ]
    }
   ],
   "source": [
    "import datadotworld as dw"
   ]
  },
  {
   "cell_type": "code",
   "execution_count": null,
   "metadata": {
    "collapsed": true
   },
   "outputs": [],
   "source": [
    "# Datasets are referenced by their path\n",
    "dataset_key = 'socialmediadata/tweets-of-congress-november'\n",
    "\n",
    "# Or simply by their URL\n",
    "dataset_key = 'https://data.world/socialmediadata/tweets-of-congress-november'"
   ]
  },
  {
   "cell_type": "code",
   "execution_count": null,
   "metadata": {},
   "outputs": [],
   "source": [
    "# Load dataset (onto the local file system)\n",
    "dataset_local = dw.load_dataset(dataset_key)  # cached under ~/.dw/cache"
   ]
  },
  {
   "cell_type": "code",
   "execution_count": null,
   "metadata": {},
   "outputs": [],
   "source": [
    "# See what is in it\n",
    "dataset_local.describe()"
   ]
  },
  {
   "cell_type": "markdown",
   "metadata": {},
   "source": [
    "# Next steps\n",
    "\n",
    "- Run `help()` to learn more ways to access and use your data. Try:\n",
    "  - `help(dw.load_dataset)`\n",
    "  - `help(dw.query)`\n",
    "- Learn more at: https://github.com/datadotworld/data.world-py and https://docs.data.world"
   ]
  }
 ],
 "metadata": {
  "kernelspec": {
   "display_name": "Python 3",
   "language": "python",
   "name": "python3"
  },
  "language_info": {
   "codemirror_mode": {
    "name": "ipython",
    "version": 3
   },
   "file_extension": ".py",
   "mimetype": "text/x-python",
   "name": "python",
   "nbconvert_exporter": "python",
   "pygments_lexer": "ipython3",
   "version": "3.5.2"
  }
 },
 "nbformat": 4,
 "nbformat_minor": 2
}
